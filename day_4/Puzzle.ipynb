{
 "cells": [
  {
   "cell_type": "markdown",
   "id": "c05c18ac",
   "metadata": {},
   "source": [
    "--- Day 4: Camp Cleanup ---\n",
    "Space needs to be cleared before the last supplies can be unloaded from the ships, and so several Elves have been assigned the job of cleaning up sections of the camp. Every section has a unique ID number, and each Elf is assigned a range of section IDs.\n",
    "\n",
    "However, as some of the Elves compare their section assignments with each other, they've noticed that many of the assignments overlap. To try to quickly find overlaps and reduce duplicated effort, the Elves pair up and make a big list of the section assignments for each pair (your puzzle input).\n",
    "\n",
    "For example, consider the following list of section assignment pairs:\n",
    "\n",
    "![example](example.png)\n",
    "\n",
    "For the first few pairs, this list means:\n",
    "\n",
    "* Within the first pair of Elves, the first Elf was assigned sections 2-4 (sections 2, 3, and 4), while the second Elf was assigned sections 6-8 (sections 6, 7, 8).\n",
    "* The Elves in the second pair were each assigned two sections.\n",
    "* The Elves in the third pair were each assigned three sections: one got sections 5, 6, and 7, while the other also got 7, plus 8 and 9.\n",
    "This example list uses single-digit section IDs to make it easier to draw; your actual list might contain larger numbers. Visually, these pairs of section assignments look like this:\n",
    "\n",
    "![example](example2.png)\n",
    "\n",
    "Some of the pairs have noticed that one of their assignments fully contains the other. For example, 2-8 fully contains 3-7, and 6-6 is fully contained by 4-6. In pairs where one assignment fully contains the other, one Elf in the pair would be exclusively cleaning sections their partner will already be cleaning, so these seem like the most in need of reconsideration. In this example, there are 2 such pairs.\n",
    "\n",
    "In how many assignment pairs does one range fully contain the other?"
   ]
  },
  {
   "cell_type": "code",
   "execution_count": 26,
   "id": "d87472a6",
   "metadata": {},
   "outputs": [
    {
     "data": {
      "text/plain": [
       "475"
      ]
     },
     "execution_count": 26,
     "metadata": {},
     "output_type": "execute_result"
    }
   ],
   "source": [
    "import re\n",
    "\n",
    "\n",
    "def find_task_subsets(text):\n",
    "    \"\"\"Find the number of task pairs where one pair fully contains the other\n",
    "    \"\"\"\n",
    "    number_of_subsets = 0\n",
    "    for task_pair in text.split(\"\\n\"):\n",
    "        first_beginning, second_beginning = [int(beggining.strip(\"-\")) for beggining in re.findall(r'\\d+-', task_pair)]\n",
    "        first_ending, second_ending = [int(ending.strip(\"-\")) for ending in re.findall(r'-\\d+', task_pair)]\n",
    "        first_contains_second = first_beginning <= second_beginning and first_ending >= second_ending\n",
    "        second_contains_first = first_beginning >= second_beginning and first_ending <= second_ending\n",
    "        if first_contains_second or second_contains_first:\n",
    "            number_of_subsets += 1\n",
    "    return number_of_subsets\n",
    "find_task_subsets(open(\"input.txt\").read())"
   ]
  },
  {
   "cell_type": "markdown",
   "id": "76e67749",
   "metadata": {},
   "source": [
    "--- Part Two ---\n",
    "It seems like there is still quite a bit of duplicate work planned. Instead, the Elves would like to know the number of pairs that overlap at all.\n",
    "\n",
    "In the above example, the first two pairs (2-4,6-8 and 2-3,4-5) don't overlap, while the remaining four pairs (5-7,7-9, 2-8,3-7, 6-6,4-6, and 2-6,4-8) do overlap:\n",
    "\n",
    "5-7,7-9 overlaps in a single section, 7.\n",
    "2-8,3-7 overlaps all of the sections 3 through 7.\n",
    "6-6,4-6 overlaps in a single section, 6.\n",
    "2-6,4-8 overlaps in sections 4, 5, and 6.\n",
    "So, in this example, the number of overlapping assignment pairs is 4.\n",
    "\n",
    "In how many assignment pairs do the ranges overlap?"
   ]
  },
  {
   "cell_type": "code",
   "execution_count": 29,
   "id": "2737de03",
   "metadata": {},
   "outputs": [
    {
     "data": {
      "text/plain": [
       "825"
      ]
     },
     "execution_count": 29,
     "metadata": {},
     "output_type": "execute_result"
    }
   ],
   "source": [
    "def find_task_overlap(text):\n",
    "    \"\"\"Find the number of task pairs where there is any overlap between them\n",
    "    \"\"\"\n",
    "    number_of_overlaps = 0\n",
    "    for task_pair in text.split(\"\\n\"):\n",
    "        first_beginning, second_beginning = [int(beggining.strip(\"-\")) for beggining in re.findall(r'\\d+-', task_pair)]\n",
    "        first_ending, second_ending = [int(ending.strip(\"-\")) for ending in re.findall(r'-\\d+', task_pair)]\n",
    "        # If the highest beginning is less than the lowest ending, there must have been an overlap\n",
    "        # (as there are only two intervals, this is sufficient)\n",
    "        overlap = max(first_beginning, second_beginning) <= min(first_ending, second_ending)\n",
    "        if overlap:\n",
    "            number_of_overlaps += 1\n",
    "    return number_of_overlaps\n",
    "find_task_overlap(open(\"input.txt\").read())"
   ]
  },
  {
   "cell_type": "code",
   "execution_count": null,
   "id": "d81035d1",
   "metadata": {},
   "outputs": [],
   "source": []
  }
 ],
 "metadata": {
  "kernelspec": {
   "display_name": "Python 3",
   "language": "python",
   "name": "python3"
  },
  "language_info": {
   "codemirror_mode": {
    "name": "ipython",
    "version": 3
   },
   "file_extension": ".py",
   "mimetype": "text/x-python",
   "name": "python",
   "nbconvert_exporter": "python",
   "pygments_lexer": "ipython3",
   "version": "3.9.5"
  }
 },
 "nbformat": 4,
 "nbformat_minor": 5
}
