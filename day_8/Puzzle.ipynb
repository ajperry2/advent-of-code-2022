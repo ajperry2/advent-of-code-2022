{
 "cells": [
  {
   "cell_type": "markdown",
   "id": "9fc12b7d",
   "metadata": {},
   "source": [
    "--- Day 8: Treetop Tree House ---\n",
    "\n",
    "The expedition comes across a peculiar patch of tall trees all planted carefully in a grid. The Elves explain that a previous expedition planted these trees as a reforestation effort. Now, they're curious if this would be a good location for a tree house.\n",
    "\n",
    "First, determine whether there is enough tree cover here to keep a tree house hidden. To do this, you need to count the number of trees that are visible from outside the grid when looking directly along a row or column.\n",
    "\n",
    "The Elves have already launched a quadcopter to generate a map with the height of each tree (your puzzle input). For example:\n",
    "```\n",
    "30373\n",
    "25512\n",
    "65332\n",
    "33549\n",
    "35390\n",
    "```\n",
    "Each tree is represented as a single digit whose value is its height, where 0 is the shortest and 9 is the tallest.\n",
    "\n",
    "A tree is visible if all of the other trees between it and an edge of the grid are shorter than it. Only consider trees in the same row or column; that is, only look up, down, left, or right from any given tree.\n",
    "\n",
    "All of the trees around the edge of the grid are visible - since they are already on the edge, there are no trees to block the view. In this example, that only leaves the interior nine trees to consider:\n",
    "\n",
    "The top-left 5 is visible from the left and top. (It isn't visible from the right or bottom since other trees of height 5 are in the way.)\n",
    "The top-middle 5 is visible from the top and right.\n",
    "The top-right 1 is not visible from any direction; for it to be visible, there would need to only be trees of height 0 between it and an edge.\n",
    "The left-middle 5 is visible, but only from the right.\n",
    "The center 3 is not visible from any direction; for it to be visible, there would need to be only trees of at most height 2 between it and an edge.\n",
    "The right-middle 3 is visible from the right.\n",
    "In the bottom row, the middle 5 is visible, but the 3 and 4 are not.\n",
    "With 16 trees visible on the edge and another 5 visible in the interior, a total of 21 trees are visible in this arrangement.\n",
    "\n",
    "Consider your map; how many trees are visible from outside the grid?"
   ]
  },
  {
   "cell_type": "code",
   "execution_count": 9,
   "id": "0e9920a9",
   "metadata": {},
   "outputs": [
    {
     "name": "stdout",
     "output_type": "stream",
     "text": [
      "Collecting numpy\n",
      "  Downloading numpy-1.24.3-cp39-cp39-macosx_10_9_x86_64.whl (19.8 MB)\n",
      "\u001b[K     |████████████████████████████████| 19.8 MB 1.4 MB/s eta 0:00:01\n",
      "\u001b[?25hInstalling collected packages: numpy\n",
      "Successfully installed numpy-1.24.3\n"
     ]
    }
   ],
   "source": [
    "!pip install numpy"
   ]
  },
  {
   "cell_type": "code",
   "execution_count": 29,
   "id": "6a409c84",
   "metadata": {},
   "outputs": [
    {
     "data": {
      "text/plain": [
       "1715"
      ]
     },
     "execution_count": 29,
     "metadata": {},
     "output_type": "execute_result"
    }
   ],
   "source": [
    "# first time using numpy in the advent of code!\n",
    "import numpy as np\n",
    "\n",
    "def parse_input(input_text):\n",
    "    # Convert to list of list of ints\n",
    "    string_rows = input_text.split(\"\\n\")\n",
    "    parsed_input = []\n",
    "    for string_row in string_rows:\n",
    "        parsed_input.append([int(tree_height) for tree_height in string_row])\n",
    "    return np.array(parsed_input)\n",
    "    \n",
    "\n",
    "# Going to make a more simple implimentation at first where I just find if each tree is visible, then \n",
    "# make a more performant version where we only look from \"outside\" the forest\n",
    "\n",
    "def find_num_visible(input_text):\n",
    "    parsed_input = parse_input(input_text)\n",
    "    num_visible = 0\n",
    "\n",
    "    for tree_row in range(parsed_input.shape[0]):\n",
    "        for tree_col in range(parsed_input.shape[1]):\n",
    "            current_tree_height = parsed_input[tree_row, tree_col]\n",
    "            # The conditions state if a tree is on the edge it is visible from that direction\n",
    "            tallest_trees_above = parsed_input[:tree_row,tree_col].max() if tree_row > 0 else -1\n",
    "            tallest_trees_below = parsed_input[tree_row+1:,tree_col].max() if tree_row < parsed_input.shape[0]-1 else -1\n",
    "            tallest_trees_left = parsed_input[tree_row,:tree_col].max() if tree_col > 0 else -1\n",
    "            tallest_trees_right = parsed_input[tree_row,tree_col+1:].max() if tree_col < parsed_input.shape[1]-1 else -1\n",
    "            is_visible = min(\n",
    "                tallest_trees_above,\n",
    "                tallest_trees_below,\n",
    "                tallest_trees_left,\n",
    "                tallest_trees_right\n",
    "            ) < current_tree_height\n",
    "            if is_visible:\n",
    "                num_visible += 1\n",
    "    return num_visible\n",
    "\n",
    "find_num_visible(open(\"input.txt\").read())"
   ]
  },
  {
   "cell_type": "markdown",
   "id": "ef4dbc74",
   "metadata": {},
   "source": [
    "--- Part Two ---\n",
    "Content with the amount of tree cover available, the Elves just need to know the best spot to build their tree house: they would like to be able to see a lot of trees.\n",
    "\n",
    "To measure the viewing distance from a given tree, look up, down, left, and right from that tree; stop if you reach an edge or at the first tree that is the same height or taller than the tree under consideration. (If a tree is right on the edge, at least one of its viewing distances will be zero.)\n",
    "\n",
    "The Elves don't care about distant trees taller than those found by the rules above; the proposed tree house has large eaves to keep it dry, so they wouldn't be able to see higher than the tree house anyway.\n",
    "\n",
    "In the example above, consider the middle 5 in the second row:\n",
    "\n",
    "```\n",
    "30373\n",
    "25512\n",
    "65332\n",
    "33549\n",
    "35390\n",
    "```\n",
    "\n",
    "Looking up, its view is not blocked; it can see 1 tree (of height 3).\n",
    "Looking left, its view is blocked immediately; it can see only 1 tree (of height 5, right next to it).\n",
    "Looking right, its view is not blocked; it can see 2 trees.\n",
    "Looking down, its view is blocked eventually; it can see 2 trees (one of height 3, then the tree of height 5 that blocks its view).\n",
    "A tree's scenic score is found by multiplying together its viewing distance in each of the four directions. For this tree, this is 4 (found by multiplying 1 * 1 * 2 * 2).\n",
    "\n",
    "However, you can do even better: consider the tree of height 5 in the middle of the fourth row:\n",
    "\n",
    "```\n",
    "30373\n",
    "25512\n",
    "65332\n",
    "33549\n",
    "35390\n",
    "```\n",
    "\n",
    "Looking up, its view is blocked at 2 trees (by another tree with a height of 5).\n",
    "Looking left, its view is not blocked; it can see 2 trees.\n",
    "Looking down, its view is also not blocked; it can see 1 tree.\n",
    "Looking right, its view is blocked at 2 trees (by a massive tree of height 9).\n",
    "This tree's scenic score is 8 (2 * 2 * 1 * 2); this is the ideal spot for the tree house.\n",
    "\n",
    "Consider each tree on your map. What is the highest scenic score possible for any tree?"
   ]
  },
  {
   "cell_type": "code",
   "execution_count": 59,
   "id": "981be433",
   "metadata": {},
   "outputs": [
    {
     "data": {
      "text/plain": [
       "374400"
      ]
     },
     "execution_count": 59,
     "metadata": {},
     "output_type": "execute_result"
    }
   ],
   "source": [
    "def find_most_scenic(input_text):\n",
    "    \"\"\"Find the tree with the best view\"\"\"\n",
    "    parsed_input = parse_input(input_text)\n",
    "    most_scenic = -1\n",
    "    \n",
    "    for tree_row in range(parsed_input.shape[0]):\n",
    "        for tree_col in range(parsed_input.shape[1]):\n",
    "            current_tree_height = parsed_input[tree_row, tree_col]\n",
    "            # How many trees can we see in each direction\n",
    "            trees_above_taller = parsed_input[:tree_row,tree_col][::-1] >= current_tree_height\n",
    "            if trees_above_taller.any():\n",
    "                view_top = trees_above_taller.argmax() + 1\n",
    "            else:\n",
    "                view_top = max(tree_row, 1)\n",
    "            if tree_row == parsed_input.shape[0]-1:\n",
    "                view_below = 1\n",
    "            else:\n",
    "                trees_below_taller = parsed_input[tree_row+1:,tree_col] >= current_tree_height\n",
    "                if trees_below_taller.any():\n",
    "                    view_below = trees_below_taller.argmax() + 1\n",
    "                else:\n",
    "                    view_below = max(parsed_input.shape[0] - tree_row-1, 1)\n",
    "            trees_left_taller = parsed_input[tree_row,:tree_col][::-1] >= current_tree_height\n",
    "            if trees_left_taller.any():\n",
    "                view_left = trees_left_taller.argmax() + 1\n",
    "            else:\n",
    "                view_left = max(tree_col, 1)\n",
    "        \n",
    "            if tree_col == parsed_input.shape[1]-1:\n",
    "                view_right = 1\n",
    "            else:\n",
    "                trees_right_taller = parsed_input[tree_row,tree_col+1:] >= current_tree_height\n",
    "                if trees_right_taller.any():\n",
    "                    view_right = trees_right_taller.argmax() + 1\n",
    "                else:\n",
    "                    view_right = max(parsed_input.shape[0] - tree_col-1, 1)\n",
    "            scenery_score = view_top * view_below * view_left * view_right\n",
    "            if scenery_score > most_scenic:\n",
    "                most_scenic = scenery_score\n",
    "    return most_scenic\n",
    "find_most_scenic(open(\"input.txt\").read())"
   ]
  },
  {
   "cell_type": "code",
   "execution_count": null,
   "id": "f45a2bd9",
   "metadata": {},
   "outputs": [],
   "source": []
  }
 ],
 "metadata": {
  "kernelspec": {
   "display_name": "Python 3",
   "language": "python",
   "name": "python3"
  },
  "language_info": {
   "codemirror_mode": {
    "name": "ipython",
    "version": 3
   },
   "file_extension": ".py",
   "mimetype": "text/x-python",
   "name": "python",
   "nbconvert_exporter": "python",
   "pygments_lexer": "ipython3",
   "version": "3.9.5"
  }
 },
 "nbformat": 4,
 "nbformat_minor": 5
}
