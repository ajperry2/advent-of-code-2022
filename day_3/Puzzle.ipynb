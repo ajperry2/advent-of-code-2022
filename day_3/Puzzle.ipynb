{
 "cells": [
  {
   "cell_type": "markdown",
   "id": "0042a0a3",
   "metadata": {},
   "source": [
    "--- Day 3: Rucksack Reorganization ---\n",
    "One Elf has the important job of loading all of the rucksacks with supplies for the jungle journey. Unfortunately, that Elf didn't quite follow the packing instructions, and so a few items now need to be rearranged.\n",
    "\n",
    "Each rucksack has two large compartments. All items of a given type are meant to go into exactly one of the two compartments. The Elf that did the packing failed to follow this rule for exactly one item type per rucksack.\n",
    "\n",
    "The Elves have made a list of all of the items currently in each rucksack (your puzzle input), but they need your help finding the errors. Every item type is identified by a single lowercase or uppercase letter (that is, a and A refer to different types of items).\n",
    "\n",
    "The list of items for each rucksack is given as characters all on a single line. A given rucksack always has the same number of items in each of its two compartments, so the first half of the characters represent items in the first compartment, while the second half of the characters represent items in the second compartment.\n",
    "\n",
    "For example, suppose you have the following list of contents from six rucksacks:\n",
    "\n",
    "![example](example.png)\n",
    "\n",
    "\n",
    "* The first rucksack contains the items vJrwpWtwJgWrhcsFMMfFFhFp, which means its first compartment contains the items vJrwpWtwJgWr, while the second compartment contains the items hcsFMMfFFhFp. The only item type that appears in both compartments is lowercase p.\n",
    "* The second rucksack's compartments contain jqHRNqRjqzjGDLGL and rsFMfFZSrLrFZsSL. The only item type that appears in both compartments is uppercase L.\n",
    "* The third rucksack's compartments contain PmmdzqPrV and vPwwTWBwg; the only common item type is uppercase P.\n",
    "* The fourth rucksack's compartments only share item type v.\n",
    "* The fifth rucksack's compartments only share item type t.\n",
    "* The sixth rucksack's compartments only share item type s.\n",
    "* To help prioritize item rearrangement, every item type can be converted to a priority:\n",
    "\n",
    "Lowercase item types a through z have priorities 1 through 26.\n",
    "Uppercase item types A through Z have priorities 27 through 52.\n",
    "In the above example, the priority of the item type that appears in both compartments of each rucksack is 16 (p), 38 (L), 42 (P), 22 (v), 20 (t), and 19 (s); the sum of these is 157.\n",
    "\n",
    "Find the item type that appears in both compartments of each rucksack. What is the sum of the priorities of those item types?\n",
    "\n"
   ]
  },
  {
   "cell_type": "code",
   "execution_count": 13,
   "id": "4aa02068",
   "metadata": {},
   "outputs": [
    {
     "data": {
      "text/plain": [
       "8493"
      ]
     },
     "execution_count": 13,
     "metadata": {},
     "output_type": "execute_result"
    }
   ],
   "source": [
    "import string\n",
    "def common_item_type_sum(text):\n",
    "    letter_to_priority = {\n",
    "        letter: i+1\n",
    "        for i, letter \n",
    "        in enumerate(string.ascii_lowercase + string.ascii_uppercase)\n",
    "    }\n",
    "    total_priority = 0\n",
    "    for rucksack in text.split(\"\\n\"):\n",
    "        rucksack_size = len(rucksack)\n",
    "        # Assuming the bag has even number of letters here\n",
    "        assert rucksack_size%2 == 0\n",
    "        compartment_1 = set(rucksack[:rucksack_size//2])\n",
    "        compartment_2 = set(rucksack[rucksack_size//2:])\n",
    "        common_items = (compartment_1 & compartment_2)\n",
    "        assert len(common_items) == 1, f\"Unexpected number of common items: {common_items}\"\n",
    "        common_item = common_items.pop()\n",
    "        total_priority += letter_to_priority[common_item]\n",
    "    return total_priority\n",
    "\n",
    "common_item_type_sum(open(\"input.txt\").read())"
   ]
  },
  {
   "cell_type": "markdown",
   "id": "6c9285cb",
   "metadata": {},
   "source": [
    "--- Part Two ---\n",
    "As you finish identifying the misplaced items, the Elves come to you with another issue.\n",
    "\n",
    "For safety, the Elves are divided into groups of three. Every Elf carries a badge that identifies their group. For efficiency, within each group of three Elves, the badge is the only item type carried by all three Elves. That is, if a group's badge is item type B, then all three Elves will have item type B somewhere in their rucksack, and at most two of the Elves will be carrying any other item type.\n",
    "\n",
    "The problem is that someone forgot to put this year's updated authenticity sticker on the badges. All of the badges need to be pulled out of the rucksacks so the new authenticity stickers can be attached.\n",
    "\n",
    "Additionally, nobody wrote down which item type corresponds to each group's badges. The only way to tell which item type is the right one is by finding the one item type that is common between all three Elves in each group.\n",
    "\n",
    "Every set of three lines in your list corresponds to a single group, but each group can have a different badge item type. So, in the above example, the first group's rucksacks are the first three lines:\n",
    "\n",
    "![example](example2.png)\n",
    "\n",
    "And the second group's rucksacks are the next three lines:\n",
    "\n",
    "![example](example2.png)\n",
    "\n",
    "In the first group, the only item type that appears in all three rucksacks is lowercase r; this must be their badges. In the second group, their badge item type must be Z.\n",
    "\n",
    "Priorities for these items must still be found to organize the sticker attachment efforts: here, they are 18 (r) for the first group and 52 (Z) for the second group. The sum of these is 70.\n",
    "\n",
    "Find the item type that corresponds to the badges of each three-Elf group. What is the sum of the priorities of those item types?"
   ]
  },
  {
   "cell_type": "code",
   "execution_count": 16,
   "id": "3a9eda2b",
   "metadata": {},
   "outputs": [
    {
     "data": {
      "text/plain": [
       "2552"
      ]
     },
     "execution_count": 16,
     "metadata": {},
     "output_type": "execute_result"
    }
   ],
   "source": [
    "def assign_authenticity_badges(text):\n",
    "    rucksacks = text.split(\"\\n\")\n",
    "    letter_to_priority = {\n",
    "        letter: i+1\n",
    "        for i, letter \n",
    "        in enumerate(string.ascii_lowercase + string.ascii_uppercase)\n",
    "    }\n",
    "    \n",
    "    priority_total = 0\n",
    "    while len(rucksacks) > 0:\n",
    "        rucksack_1 = set(rucksacks.pop())\n",
    "        rucksack_2 = set(rucksacks.pop())\n",
    "        rucksack_3 = set(rucksacks.pop())\n",
    "        common_items = rucksack_1 & rucksack_2 & rucksack_3\n",
    "        assert len(common_items) == 1, f\"Unexpected number of common items: {common_items}\"\n",
    "        common_item = common_items.pop()\n",
    "        priority_total += letter_to_priority[common_item]\n",
    "    return priority_total\n",
    "assign_authenticity_badges(open(\"input.txt\").read())\n",
    "        "
   ]
  },
  {
   "cell_type": "code",
   "execution_count": null,
   "id": "3a30cc06",
   "metadata": {},
   "outputs": [],
   "source": []
  }
 ],
 "metadata": {
  "kernelspec": {
   "display_name": "Python 3",
   "language": "python",
   "name": "python3"
  },
  "language_info": {
   "codemirror_mode": {
    "name": "ipython",
    "version": 3
   },
   "file_extension": ".py",
   "mimetype": "text/x-python",
   "name": "python",
   "nbconvert_exporter": "python",
   "pygments_lexer": "ipython3",
   "version": "3.9.5"
  }
 },
 "nbformat": 4,
 "nbformat_minor": 5
}
