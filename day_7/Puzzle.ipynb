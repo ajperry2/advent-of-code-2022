{
 "cells": [
  {
   "cell_type": "markdown",
   "id": "695c7ccd",
   "metadata": {},
   "source": [
    "--- Day 7: No Space Left On Device ---\n",
    "You can hear birds chirping and raindrops hitting leaves as the expedition proceeds. Occasionally, you can even hear much louder sounds in the distance; how big do the animals get out here, anyway?\n",
    "\n",
    "The device the Elves gave you has problems with more than just its communication system. You try to run a system update:\n",
    "\n",
    "```\n",
    "$ system-update --please --pretty-please-with-sugar-on-top\n",
    "Error: No space left on device\n",
    "Perhaps you can delete some files to make space for the update?\n",
    "```\n",
    "\n",
    "You browse around the filesystem to assess the situation and save the resulting terminal output (your puzzle input). For example:\n",
    "\n",
    "```\n",
    "$ cd /\n",
    "$ ls\n",
    "dir a\n",
    "14848514 b.txt\n",
    "8504156 c.dat\n",
    "dir d\n",
    "$ cd a\n",
    "$ ls\n",
    "dir e\n",
    "29116 f\n",
    "2557 g\n",
    "62596 h.lst\n",
    "$ cd e\n",
    "$ ls\n",
    "584 i\n",
    "$ cd ..\n",
    "$ cd ..\n",
    "$ cd d\n",
    "$ ls\n",
    "4060174 j\n",
    "8033020 d.log\n",
    "5626152 d.ext\n",
    "7214296 k\n",
    "```\n",
    "\n",
    "\n",
    "The filesystem consists of a tree of files (plain data) and directories (which can contain other directories or files). The outermost directory is called /. You can navigate around the filesystem, moving into or out of directories and listing the contents of the directory you're currently in.\n",
    "\n",
    "Within the terminal output, lines that begin with $ are commands you executed, very much like some modern computers:\n",
    "\n",
    "cd means change directory. This changes which directory is the current directory, but the specific result depends on the argument:\n",
    "cd x moves in one level: it looks in the current directory for the directory named x and makes it the current directory.\n",
    "cd .. moves out one level: it finds the directory that contains the current directory, then makes that directory the current directory.\n",
    "cd / switches the current directory to the outermost directory, /.\n",
    "ls means list. It prints out all of the files and directories immediately contained by the current directory:\n",
    "123 abc means that the current directory contains a file named abc with size 123.\n",
    "dir xyz means that the current directory contains a directory named xyz.\n",
    "Given the commands and output in the example above, you can determine that the filesystem looks visually like this:\n",
    "```\n",
    "- / (dir)\n",
    "  - a (dir)\n",
    "    - e (dir)\n",
    "      - i (file, size=584)\n",
    "    - f (file, size=29116)\n",
    "    - g (file, size=2557)\n",
    "    - h.lst (file, size=62596)\n",
    "  - b.txt (file, size=14848514)\n",
    "  - c.dat (file, size=8504156)\n",
    "  - d (dir)\n",
    "    - j (file, size=4060174)\n",
    "    - d.log (file, size=8033020)\n",
    "    - d.ext (file, size=5626152)\n",
    "    - k (file, size=7214296)\n",
    "```\n",
    "Here, there are four directories: / (the outermost directory), a and d (which are in /), and e (which is in a). These directories also contain files of various sizes.\n",
    "\n",
    "Since the disk is full, your first step should probably be to find directories that are good candidates for deletion. To do this, you need to determine the total size of each directory. The total size of a directory is the sum of the sizes of the files it contains, directly or indirectly. (Directories themselves do not count as having any intrinsic size.)\n",
    "\n",
    "The total sizes of the directories above can be found as follows:\n",
    "\n",
    "The total size of directory e is 584 because it contains a single file i of size 584 and no other directories.\n",
    "The directory a has total size 94853 because it contains files f (size 29116), g (size 2557), and h.lst (size 62596), plus file i indirectly (a contains e which contains i).\n",
    "Directory d has total size 24933642.\n",
    "As the outermost directory, / contains every file. Its total size is 48381165, the sum of the size of every file.\n",
    "To begin, find all of the directories with a total size of at most 100000, then calculate the sum of their total sizes. In the example above, these directories are a and e; the sum of their total sizes is 95437 (94853 + 584). (As in this example, this process can count files more than once!)\n",
    "\n",
    "Find all of the directories with a total size of at most 100000. What is the sum of the total sizes of those directories?\n",
    "\n"
   ]
  },
  {
   "cell_type": "code",
   "execution_count": 41,
   "id": "b9103036",
   "metadata": {},
   "outputs": [
    {
     "data": {
      "text/plain": [
       "43629016"
      ]
     },
     "execution_count": 41,
     "metadata": {},
     "output_type": "execute_result"
    }
   ],
   "source": [
    "import string\n",
    "from typing import Dict, Optional, List\n",
    "from pprint import pprint\n",
    "\n",
    "# Celebrating using OOP for the first time in this advent of code!\n",
    "class Directory:\n",
    "    def __init__(self, parent_dir: Optional[Directory]):\n",
    "        self.parent = parent_dir\n",
    "        self.subdirectories: Dict[str, Directory] = {}\n",
    "        self.files: Dict[str, int] = dict()\n",
    "\n",
    "    def calculate_size(self):\n",
    "        size = 0\n",
    "        for subdirectory in self.subdirectories.values():\n",
    "            \n",
    "            size += subdirectory.calculate_size()\n",
    "        for file_size in self.files.values():\n",
    "            size += file_size\n",
    "        return size\n",
    "    \n",
    "    def cd(self, folder_name: str):\n",
    "        if folder_name != \"..\":\n",
    "            if folder_name not in self.subdirectories:\n",
    "                self._add_subdirectory(folder_name)\n",
    "            return self.subdirectories[folder_name]\n",
    "        else:\n",
    "            return self.parent\n",
    "\n",
    "    def get_root(self):\n",
    "        cwd = self\n",
    "        while cwd.parent is not None:\n",
    "            cwd = cwd.parent\n",
    "        return cwd\n",
    "\n",
    "    def ls(self, lines: List[str]):\n",
    "        for line in lines:\n",
    "            is_dir = line.startswith(\"dir \")\n",
    "            # Assuming nonempty lines\n",
    "            is_file = line[0] in string.digits\n",
    "            tokens = line.split()\n",
    "            if is_dir:\n",
    "                folder_name = tokens[1]\n",
    "                self._add_subdirectory(folder_name)\n",
    "            if is_file:\n",
    "                file_size = int(tokens[0])\n",
    "                file_name = tokens[1]\n",
    "                self._add_file(file_name, file_size)\n",
    "    \n",
    "    def _add_subdirectory(self, name: str):\n",
    "        self.subdirectories[name] = Directory(self)\n",
    "\n",
    "    def _add_file(self, name: str, size: str):\n",
    "        self.files[name] = size\n",
    "                \n",
    "    def to_json(self):\n",
    "        json = dict()\n",
    "        for subdirectory_name, subdirectory in self.subdirectories.items():\n",
    "            json[subdirectory_name] = subdirectory.to_json()\n",
    "        for file_name, file_size in self.files.items():\n",
    "            json[file_name] = file_size\n",
    "        return json\n",
    "\n",
    "def execute_command(current_working_directory: Directory, command: str, command_output: List[str]):\n",
    "    command_tokens = command.split()\n",
    "    command = command_tokens[1]\n",
    "    if command == \"cd\":\n",
    "        folder_name = command_tokens[2]\n",
    "        current_working_directory = current_working_directory.cd(folder_name)\n",
    "    elif command == \"ls\":\n",
    "        current_working_directory.ls(command_output)\n",
    "    else:\n",
    "        raise ValueError(f\"Unrecognized Command {command}\")\n",
    "    return current_working_directory\n",
    "\n",
    "def build_filesystem(prompt: str) -> dict:\n",
    "    current_working_directory = Directory(None) # no parent\n",
    "    \n",
    "    lines = prompt.split(\"\\n\")\n",
    "    while len(lines) > 0:\n",
    "        command = lines.pop(0)\n",
    "        is_command = command.startswith(\"$ \")\n",
    "        assert is_command, \"output requested when command needed\"\n",
    "        # Collect output of command if is any\n",
    "        command_output = []\n",
    "        while len(lines) > 0 and not lines[0].startswith(\"$ \"):\n",
    "            command_output.append(lines.pop(0))\n",
    "        current_working_directory = execute_command(current_working_directory, command, command_output)\n",
    "    # It likely wont return the root, so climb the file tree to the root then return it\n",
    "    return current_working_directory.get_root()\n",
    "\n",
    "file_system = build_filesystem(open(\"input.txt\").read())\n",
    "# The total size of the filesystem\n",
    "file_system.calculate_size()"
   ]
  },
  {
   "cell_type": "markdown",
   "id": "9946aa96",
   "metadata": {},
   "source": [
    "We need to filter out small folders (only include those larger than 100_000)"
   ]
  },
  {
   "cell_type": "code",
   "execution_count": 44,
   "id": "e9c5912b",
   "metadata": {},
   "outputs": [
    {
     "data": {
      "text/plain": [
       "1845346"
      ]
     },
     "execution_count": 44,
     "metadata": {},
     "output_type": "execute_result"
    }
   ],
   "source": [
    "def filtered_size(root):\n",
    "    size = 0\n",
    "    folder_size = root.calculate_size()\n",
    "    if folder_size < 100_000:\n",
    "        size += folder_size\n",
    "        \n",
    "    for subdirectory_name, subdirectory in root.subdirectories.items():\n",
    "        size += filtered_size(subdirectory)\n",
    "    return size\n",
    "filtered_size(file_system)"
   ]
  },
  {
   "cell_type": "code",
   "execution_count": 43,
   "id": "acdd80e4",
   "metadata": {},
   "outputs": [
    {
     "data": {
      "text/plain": [
       "43629016"
      ]
     },
     "execution_count": 43,
     "metadata": {},
     "output_type": "execute_result"
    }
   ],
   "source": [
    "file_system.calculate_size()"
   ]
  },
  {
   "cell_type": "markdown",
   "id": "e43c6724",
   "metadata": {},
   "source": [
    "--- Part Two ---\n",
    "Now, you're ready to choose a directory to delete.\n",
    "\n",
    "The total disk space available to the filesystem is 70000000. To run the update, you need unused space of at least 30000000. You need to find a directory you can delete that will free up enough space to run the update.\n",
    "\n",
    "In the example above, the total size of the outermost directory (and thus the total amount of used space) is 48381165; this means that the size of the unused space must currently be 21618835, which isn't quite the 30000000 required by the update. Therefore, the update still requires a directory with total size of at least 8381165 to be deleted before it can run.\n",
    "\n",
    "To achieve this, you have the following options:\n",
    "\n",
    "- Delete directory e, which would increase unused space by 584.\n",
    "- Delete directory a, which would increase unused space by 94853.\n",
    "- Delete directory d, which would increase unused space by 24933642.\n",
    "- Delete directory /, which would increase unused space by 48381165.\n",
    "\n",
    "Directories e and a are both too small; deleting them would not free up enough space. However, directories d and / are both big enough! Between these, choose the smallest: d, increasing unused space by 24933642.\n",
    "\n",
    "Find the smallest directory that, if deleted, would free up enough space on the filesystem to run the update. What is the total size of that directory?"
   ]
  },
  {
   "cell_type": "code",
   "execution_count": 56,
   "id": "ea1b0429",
   "metadata": {},
   "outputs": [
    {
     "data": {
      "text/plain": [
       "3636703"
      ]
     },
     "execution_count": 56,
     "metadata": {},
     "output_type": "execute_result"
    }
   ],
   "source": [
    "def size_of_smallest_candidate(root, required_size_to_remove):\n",
    "    candidates = []\n",
    "    for subdirectory_name, subdirectory in root.subdirectories.items():\n",
    "        if required_size_to_remove <= subdirectory.calculate_size():\n",
    "            candidates.append(subdirectory.calculate_size())\n",
    "        if size_of_smallest_candidate(subdirectory,required_size_to_remove) is not None:\n",
    "            candidates.append(\n",
    "                size_of_smallest_candidate(subdirectory,required_size_to_remove)\n",
    "            )\n",
    "    if len(candidates) > 0:\n",
    "        return min(candidates)\n",
    "    else:\n",
    "        return None\n",
    "free_space = 70000000 - file_system.calculate_size()\n",
    "needed_space = 30000000\n",
    "required_size_to_remove = needed_space-free_space\n",
    "\n",
    "size_of_smallest_candidate(file_system, required_size_to_remove)"
   ]
  }
 ],
 "metadata": {
  "kernelspec": {
   "display_name": "Python 3",
   "language": "python",
   "name": "python3"
  },
  "language_info": {
   "codemirror_mode": {
    "name": "ipython",
    "version": 3
   },
   "file_extension": ".py",
   "mimetype": "text/x-python",
   "name": "python",
   "nbconvert_exporter": "python",
   "pygments_lexer": "ipython3",
   "version": "3.9.5"
  }
 },
 "nbformat": 4,
 "nbformat_minor": 5
}
